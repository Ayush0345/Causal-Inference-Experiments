{
  "nbformat": 4,
  "nbformat_minor": 0,
  "metadata": {
    "colab": {
      "provenance": [],
      "authorship_tag": "ABX9TyMbDWwhfkQpST8yyBIAYpAL",
      "include_colab_link": true
    },
    "kernelspec": {
      "name": "ir",
      "display_name": "R"
    },
    "language_info": {
      "name": "R"
    }
  },
  "cells": [
    {
      "cell_type": "markdown",
      "metadata": {
        "id": "view-in-github",
        "colab_type": "text"
      },
      "source": [
        "<a href=\"https://colab.research.google.com/github/Ayush0345/Causal-Inference-Experiments/blob/main/DID_Est.ipynb\" target=\"_parent\"><img src=\"https://colab.research.google.com/assets/colab-badge.svg\" alt=\"Open In Colab\"/></a>"
      ]
    },
    {
      "cell_type": "code",
      "execution_count": 1,
      "metadata": {
        "id": "23qgbUq8D9-C"
      },
      "outputs": [],
      "source": [
        "import numpy as np\n",
        "import pandas as pd\n",
        "import statsmodels.api as sm\n",
        "import statsmodels.formula.api as smf\n",
        "from itertools import combinations\n",
        "import plotnine as p\n",
        "import matplotlib.pyplot as plt"
      ]
    },
    {
      "cell_type": "code",
      "source": [
        "exp = pd.read_csv('/content/experimental.csv')\n",
        "nexp = pd.read_csv('/content/nonexperimental.csv')"
      ],
      "metadata": {
        "id": "Ek6AsWt-ErET"
      },
      "execution_count": 2,
      "outputs": []
    },
    {
      "cell_type": "markdown",
      "source": [
        "(a) Descriptive Statistics - Experimental Data"
      ],
      "metadata": {
        "id": "kbxgLaR-L045"
      }
    },
    {
      "cell_type": "code",
      "source": [
        "exp75 = exp[exp['year']==75]\n",
        "\n",
        "summary_stats = exp75.groupby('ever_treated').agg({\n",
        "    'age': ['mean', 'median', 'std', 'min', 'max'],\n",
        "    'educ': ['mean', 'median', 'std', 'min', 'max'],\n",
        "    'marr': ['mean'],\n",
        "    'nodegree': ['mean'],\n",
        "    'black': ['mean'],\n",
        "    'hisp': ['mean'],\n",
        "    're74': ['mean', 'median', 'std', 'min', 'max'],\n",
        "    'u74': ['mean']\n",
        "})\n",
        "\n",
        "# Rename the columns for better interpretation\n",
        "summary_stats.columns = ['age_mean', 'age_median', 'age_std', 'age_min', 'age_max',\n",
        "                         'educ_mean', 'educ_median', 'educ_std', 'educ_min', 'educ_max',\n",
        "                         'marr_mean', 'nodegree_mean', 'black_mean', 'hisp_mean',\n",
        "                         're74_mean', 're74_median', 're74_std', 're74_min', 're74_max',\n",
        "                         'u74_mean']\n",
        "\n",
        "print(summary_stats)"
      ],
      "metadata": {
        "id": "5o7GbUtLHNFp"
      },
      "execution_count": null,
      "outputs": []
    },
    {
      "cell_type": "markdown",
      "source": [
        "(b) Effect of treatment on real earning in 1978"
      ],
      "metadata": {
        "id": "XFBtZk9XL46Y"
      }
    },
    {
      "cell_type": "code",
      "source": [
        "# (i) Compute simple difference in means in year 1978\n",
        "exp78 = exp[exp['year']==78]\n",
        "\n",
        "treat = exp78[exp['ever_treated']==1]\n",
        "control = exp78[exp['ever_treated']==0]\n",
        "\n",
        "re_treat = treat.re\n",
        "re_control = control.re\n",
        "\n",
        "# Simple Difference in Means\n",
        "sdm = re_treat.mean() - re_control.mean()\n",
        "print(sdm)"
      ],
      "metadata": {
        "colab": {
          "base_uri": "https://localhost:8080/"
        },
        "id": "wsugLB4oLdRa",
        "outputId": "b2d34501-0f74-4fdc-f003-525156f00f98"
      },
      "execution_count": 4,
      "outputs": [
        {
          "output_type": "stream",
          "name": "stdout",
          "text": [
            "1794.3423818501024\n"
          ]
        },
        {
          "output_type": "stream",
          "name": "stderr",
          "text": [
            "<ipython-input-4-6d848cc32fb8>:4: UserWarning: Boolean Series key will be reindexed to match DataFrame index.\n",
            "<ipython-input-4-6d848cc32fb8>:5: UserWarning: Boolean Series key will be reindexed to match DataFrame index.\n"
          ]
        }
      ]
    },
    {
      "cell_type": "code",
      "source": [
        "# (ii) OLS using only the year 1978\n",
        "\n",
        "re78 = exp78.re\n",
        "treatment = exp78.ever_treated\n",
        "\n",
        "model = sm.OLS(re78, treatment, data=exp).fit()\n",
        "print(model.summary())"
      ],
      "metadata": {
        "colab": {
          "base_uri": "https://localhost:8080/"
        },
        "id": "zhS3fibsOlry",
        "outputId": "a9122304-22d8-427c-9281-740f2de080a5"
      },
      "execution_count": 5,
      "outputs": [
        {
          "output_type": "stream",
          "name": "stdout",
          "text": [
            "                                 OLS Regression Results                                \n",
            "=======================================================================================\n",
            "Dep. Variable:                     re   R-squared (uncentered):                   0.233\n",
            "Model:                            OLS   Adj. R-squared (uncentered):              0.231\n",
            "Method:                 Least Squares   F-statistic:                              134.8\n",
            "Date:                Thu, 25 Apr 2024   Prob (F-statistic):                    2.17e-27\n",
            "Time:                        12:59:47   Log-Likelihood:                         -4597.9\n",
            "No. Observations:                 445   AIC:                                      9198.\n",
            "Df Residuals:                     444   BIC:                                      9202.\n",
            "Df Model:                           1                                                  \n",
            "Covariance Type:            nonrobust                                                  \n",
            "================================================================================\n",
            "                   coef    std err          t      P>|t|      [0.025      0.975]\n",
            "--------------------------------------------------------------------------------\n",
            "ever_treated  6349.1435    546.940     11.608      0.000    5274.230    7424.057\n",
            "==============================================================================\n",
            "Omnibus:                      204.860   Durbin-Watson:                   1.611\n",
            "Prob(Omnibus):                  0.000   Jarque-Bera (JB):             1501.391\n",
            "Skew:                           1.832   Prob(JB):                         0.00\n",
            "Kurtosis:                      11.219   Cond. No.                         1.00\n",
            "==============================================================================\n",
            "\n",
            "Notes:\n",
            "[1] R² is computed without centering (uncentered) since the model does not contain a constant.\n",
            "[2] Standard Errors assume that the covariance matrix of the errors is correctly specified.\n"
          ]
        },
        {
          "output_type": "stream",
          "name": "stderr",
          "text": [
            "/usr/local/lib/python3.10/dist-packages/statsmodels/base/model.py:130: ValueWarning: unknown kwargs ['data']\n"
          ]
        }
      ]
    },
    {
      "cell_type": "code",
      "source": [
        "# (iii) Difference-in-Differences estimator using years 78 for post-period and 75 as the pre-period\n",
        "\n",
        "re75 = exp75.re\n",
        "re_treat75 = exp75[exp['ever_treated']==1]\n",
        "re_control75 = exp75[exp['ever_treated']==0]\n",
        "\n",
        "re_treat78 = exp78[exp['ever_treated']==1]\n",
        "re_control78 = exp78[exp['ever_treated']==0]\n",
        "\n",
        "avg_re75_treat = re_treat75.re75.mean()\n",
        "avg_re75_control = re_control75.re75.mean()\n",
        "avg_re78_treat = re_treat78.re.mean()\n",
        "avg_re78_control = re_control78.re.mean()\n",
        "\n",
        "did_est = (avg_re78_treat - avg_re75_treat) - (avg_re78_control - avg_re75_control)\n",
        "print(did_est)"
      ],
      "metadata": {
        "colab": {
          "base_uri": "https://localhost:8080/"
        },
        "id": "3N-U8HoDQVw0",
        "outputId": "02bd0012-9a51-4292-ba1d-7c7d85cc797f"
      },
      "execution_count": 6,
      "outputs": [
        {
          "output_type": "stream",
          "name": "stdout",
          "text": [
            "1529.1960833214434\n"
          ]
        },
        {
          "output_type": "stream",
          "name": "stderr",
          "text": [
            "<ipython-input-6-7c30fb115a17>:4: UserWarning: Boolean Series key will be reindexed to match DataFrame index.\n",
            "<ipython-input-6-7c30fb115a17>:5: UserWarning: Boolean Series key will be reindexed to match DataFrame index.\n",
            "<ipython-input-6-7c30fb115a17>:7: UserWarning: Boolean Series key will be reindexed to match DataFrame index.\n",
            "<ipython-input-6-7c30fb115a17>:8: UserWarning: Boolean Series key will be reindexed to match DataFrame index.\n"
          ]
        }
      ]
    },
    {
      "cell_type": "markdown",
      "source": [
        "(c) Use non-experimental dataset (nonexperimental.csv). Repeat (b)i, (b)ii, and (b)iii."
      ],
      "metadata": {
        "id": "yASWc8fQTmZl"
      }
    },
    {
      "cell_type": "code",
      "source": [
        "nexp78 = nexp[nexp['year']==78]\n",
        "nexp75 = nexp[nexp['year']==75]\n",
        "\n",
        "nre75 = nexp75.re\n",
        "nre78 = nexp78.re\n",
        "\n",
        "nre_treat75 = nexp75[nexp['ever_treated']==1]\n",
        "nre_control75 = nexp75[nexp['ever_treated']==0]\n",
        "\n",
        "nre_treat78 = nexp78[nexp['ever_treated']==1]\n",
        "nre_control78 = exp78[nexp['ever_treated']==0]\n",
        "\n",
        "avg_nre75_treat = nre_treat75.re.mean()\n",
        "avg_nre75_control = nre_control75.re.mean()\n",
        "avg_nre78_treat = nre_treat78.re.mean()\n",
        "avg_nre78_control = nre_control78.re.mean()\n",
        "\n",
        "did_est_nexp = (avg_nre78_treat - avg_nre75_treat) - (avg_nre78_control - avg_nre75_control)\n",
        "print(did_est_nexp)"
      ],
      "metadata": {
        "colab": {
          "base_uri": "https://localhost:8080/"
        },
        "id": "AN7bHelXTvRx",
        "outputId": "ea48e2ae-605c-49e1-baa4-a99b1e174319"
      },
      "execution_count": 7,
      "outputs": [
        {
          "output_type": "stream",
          "name": "stdout",
          "text": [
            "13913.090591182932\n"
          ]
        },
        {
          "output_type": "stream",
          "name": "stderr",
          "text": [
            "<ipython-input-7-d83ac4d936e8>:7: UserWarning: Boolean Series key will be reindexed to match DataFrame index.\n",
            "<ipython-input-7-d83ac4d936e8>:8: UserWarning: Boolean Series key will be reindexed to match DataFrame index.\n",
            "<ipython-input-7-d83ac4d936e8>:10: UserWarning: Boolean Series key will be reindexed to match DataFrame index.\n",
            "<ipython-input-7-d83ac4d936e8>:11: UserWarning: Boolean Series key will be reindexed to match DataFrame index.\n"
          ]
        }
      ]
    },
    {
      "cell_type": "markdown",
      "source": [
        "(d) Descriptive Statistics - Non-Experimental Data"
      ],
      "metadata": {
        "id": "gMZbyUAqYGJH"
      }
    },
    {
      "cell_type": "code",
      "source": [
        "nexp75 = nexp[nexp['year']==75]\n",
        "\n",
        "nxp_summary_stats = nexp75.groupby('ever_treated').agg({\n",
        "    'age': ['mean', 'median', 'std', 'min', 'max'],\n",
        "    'educ': ['mean', 'median', 'std', 'min', 'max'],\n",
        "    'marr': ['mean'],\n",
        "    'nodegree': ['mean'],\n",
        "    'black': ['mean'],\n",
        "    'hisp': ['mean'],\n",
        "    're74': ['mean', 'median', 'std', 'min', 'max'],\n",
        "    'u74': ['mean']\n",
        "})\n",
        "\n",
        "# Rename the columns for better interpretation\n",
        "nxp_summary_stats.columns = ['age_mean', 'age_median', 'age_std', 'age_min', 'age_max',\n",
        "                         'educ_mean', 'educ_median', 'educ_std', 'educ_min', 'educ_max',\n",
        "                         'marr_mean', 'nodegree_mean', 'black_mean', 'hisp_mean',\n",
        "                         're74_mean', 're74_median', 're74_std', 're74_min', 're74_max',\n",
        "                         'u74_mean']\n",
        "\n",
        "print(nxp_summary_stats)"
      ],
      "metadata": {
        "colab": {
          "base_uri": "https://localhost:8080/"
        },
        "id": "DHbWM5s7YM4R",
        "outputId": "4353ab37-c9c8-423d-f08f-8137e2e74f67"
      },
      "execution_count": 8,
      "outputs": [
        {
          "output_type": "stream",
          "name": "stdout",
          "text": [
            "               age_mean  age_median    age_std  age_min  age_max  educ_mean  \\\n",
            "ever_treated                                                                  \n",
            "0             33.225238        31.0  11.045216       16       55  12.027514   \n",
            "1             25.816216        25.0   7.155019       17       48  10.345946   \n",
            "\n",
            "              educ_median  educ_std  educ_min  educ_max  marr_mean  \\\n",
            "ever_treated                                                         \n",
            "0                    12.0  2.870846         0        18   0.711731   \n",
            "1                    11.0  2.010650         4        16   0.189189   \n",
            "\n",
            "              nodegree_mean  black_mean  hisp_mean     re74_mean  \\\n",
            "ever_treated                                                       \n",
            "0                  0.295835    0.073537   0.072036  14016.800360   \n",
            "1                  0.708108    0.843243   0.059459   2095.573693   \n",
            "\n",
            "               re74_median     re74_std  re74_min      re74_max  u74_mean  \n",
            "ever_treated                                                               \n",
            "0             15123.580078  9569.795964       0.0  25862.320312  0.119622  \n",
            "1                 0.000000  4886.620354       0.0  35040.070312  0.708108  \n"
          ]
        }
      ]
    },
    {
      "cell_type": "code",
      "source": [
        "sm = summary_stats.mean()\n",
        "nsm = nxp_summary_stats.mean()\n",
        "change = sm-nsm\n",
        "print(change)"
      ],
      "metadata": {
        "colab": {
          "base_uri": "https://localhost:8080/"
        },
        "id": "THVmbOE9ZOwt",
        "outputId": "7392e5b5-8eb7-4fed-d6cf-c01c614daaa7"
      },
      "execution_count": 9,
      "outputs": [
        {
          "output_type": "stream",
          "name": "stdout",
          "text": [
            "age_mean           -4.085696\n",
            "age_median         -3.500000\n",
            "age_std            -1.993736\n",
            "age_min             0.500000\n",
            "age_max             0.000000\n",
            "educ_mean          -0.969526\n",
            "educ_median        -1.000000\n",
            "educ_std           -0.628260\n",
            "educ_min            1.500000\n",
            "educ_max           -2.000000\n",
            "marr_mean          -0.278942\n",
            "nodegree_mean       0.269390\n",
            "black_mean          0.376693\n",
            "hisp_mean           0.017828\n",
            "re74_mean       -5954.886854\n",
            "re74_median     -7561.790039\n",
            "re74_std        -1940.945162\n",
            "re74_min            0.000000\n",
            "re74_max         6854.179688\n",
            "u74_mean            0.315189\n",
            "dtype: float64\n"
          ]
        }
      ]
    },
    {
      "cell_type": "markdown",
      "source": [
        "The results from the code in cell above will compute the difference between descriptive stats in experimental and non-experimental datasets (in terms of mean of covariates).\n",
        "\n",
        "\n",
        "---\n",
        "\n"
      ],
      "metadata": {
        "id": "o69gHIklZkqQ"
      }
    },
    {
      "cell_type": "markdown",
      "source": [
        "(e) DID estimator in the experimental dataset controlling for the vector of covariates described in cell 3."
      ],
      "metadata": {
        "id": "9k9riBTfaABY"
      }
    },
    {
      "cell_type": "code",
      "source": [
        "data = pd.merge(exp75, exp78, on='id', suffixes=('75','78'))\n",
        "\n",
        "# Creating a vector of covariates to control for in the regression model\n",
        "covariates = pd.DataFrame({\n",
        "    'age75': data['age75'],\n",
        "    'age78' : data['age78'],\n",
        "    'agesq75'  : data['agesq75'],\n",
        "    'agesq78' : data['agesq78'],\n",
        "    'agecube75': data['agecube75'],\n",
        "    'agecube78': data['agecube78'],\n",
        "    'educ75': data['educ75'],\n",
        "    'educ78': data['educ78'],\n",
        "    'educsq75': data['educsq75'],\n",
        "    'educsq78': data['educsq78'],\n",
        "    'marr75': data['marr75'],\n",
        "    'marr78': data['marr78'],\n",
        "    'black75': data['black75'],\n",
        "    'black78': data['black78'],\n",
        "    'hisp75': data['hisp75'],\n",
        "    'hisp78': data['hisp78'],\n",
        "    'nodegree75': data['nodegree75'],\n",
        "    'nodegree78': data['nodegree78'],\n",
        "    're7475': data['re7475'],\n",
        "    're7478': data['re7478'],\n",
        "    'u7475': data['u7475'],\n",
        "    'u7478': data['u7478']\n",
        "})\n",
        "\n",
        "treatment = 'ever_treated78'\n",
        "X = data[treatment]\n",
        "\n",
        "diff = data['re78'] - data['re75']\n",
        "\n",
        "model2 = smf.ols('diff ~ X + covariates', data=data).fit()\n",
        "print(model2.summary())"
      ],
      "metadata": {
        "colab": {
          "base_uri": "https://localhost:8080/"
        },
        "id": "DPq1CkCralih",
        "outputId": "95ad7d1e-84e7-4bec-9713-f1ea710020bd"
      },
      "execution_count": 10,
      "outputs": [
        {
          "output_type": "stream",
          "name": "stdout",
          "text": [
            "                            OLS Regression Results                            \n",
            "==============================================================================\n",
            "Dep. Variable:                   diff   R-squared:                       0.099\n",
            "Model:                            OLS   Adj. R-squared:                  0.074\n",
            "Method:                 Least Squares   F-statistic:                     3.945\n",
            "Date:                Thu, 25 Apr 2024   Prob (F-statistic):           8.66e-06\n",
            "Time:                        13:00:00   Log-Likelihood:                -4553.8\n",
            "No. Observations:                 445   AIC:                             9134.\n",
            "Df Residuals:                     432   BIC:                             9187.\n",
            "Df Model:                          12                                         \n",
            "Covariance Type:            nonrobust                                         \n",
            "==================================================================================\n",
            "                     coef    std err          t      P>|t|      [0.025      0.975]\n",
            "----------------------------------------------------------------------------------\n",
            "Intercept       7289.5122   1.48e+04      0.494      0.622   -2.17e+04    3.63e+04\n",
            "X               1401.8146    673.990      2.080      0.038      77.107    2726.522\n",
            "covariates[0]     43.0116    646.210      0.067      0.947   -1227.095    1313.118\n",
            "covariates[1]     43.0116    646.210      0.067      0.947   -1227.095    1313.118\n",
            "covariates[2]     -1.2249     21.171     -0.058      0.954     -42.835      40.385\n",
            "covariates[3]     -1.2249     21.171     -0.058      0.954     -42.835      40.385\n",
            "covariates[4]      0.0122      0.220      0.055      0.956      -0.421       0.445\n",
            "covariates[5]      0.0122      0.220      0.055      0.956      -0.421       0.445\n",
            "covariates[6]   -862.5481    662.277     -1.302      0.193   -2164.234     439.138\n",
            "covariates[7]   -862.5481    662.277     -1.302      0.193   -2164.234     439.138\n",
            "covariates[8]     59.1530     37.014      1.598      0.111     -13.598     131.904\n",
            "covariates[9]     59.1530     37.014      1.598      0.111     -13.598     131.904\n",
            "covariates[10]  -737.2637    457.351     -1.612      0.108   -1636.173     161.646\n",
            "covariates[11]  -737.2637    457.351     -1.612      0.108   -1636.173     161.646\n",
            "covariates[12]  -830.3283    612.699     -1.355      0.176   -2034.571     373.914\n",
            "covariates[13]  -830.3283    612.699     -1.355      0.176   -2034.571     373.914\n",
            "covariates[14]   107.5856    816.702      0.132      0.895   -1497.619    1712.790\n",
            "covariates[15]   107.5856    816.702      0.132      0.895   -1497.619    1712.790\n",
            "covariates[16]   179.7915    641.750      0.280      0.779   -1081.550    1441.133\n",
            "covariates[17]   179.7915    641.750      0.280      0.779   -1081.550    1441.133\n",
            "covariates[18]    -0.0757      0.041     -1.862      0.063      -0.156       0.004\n",
            "covariates[19]    -0.0757      0.041     -1.862      0.063      -0.156       0.004\n",
            "covariates[20]  1111.3520    492.716      2.256      0.025     142.933    2079.771\n",
            "covariates[21]  1111.3520    492.716      2.256      0.025     142.933    2079.771\n",
            "==============================================================================\n",
            "Omnibus:                      244.413   Durbin-Watson:                   1.959\n",
            "Prob(Omnibus):                  0.000   Jarque-Bera (JB):             2587.724\n",
            "Skew:                           2.142   Prob(JB):                         0.00\n",
            "Kurtosis:                      14.009   Cond. No.                     1.42e+22\n",
            "==============================================================================\n",
            "\n",
            "Notes:\n",
            "[1] Standard Errors assume that the covariance matrix of the errors is correctly specified.\n",
            "[2] The smallest eigenvalue is 3.9e-33. This might indicate that there are\n",
            "strong multicollinearity problems or that the design matrix is singular.\n"
          ]
        }
      ]
    },
    {
      "cell_type": "markdown",
      "source": [
        "(f) Using the DRDID command to estimate a doubly-robust difference-in-differences with covariates (Shifting to writing code in R for greater efficiency for DRDID package specifically)"
      ],
      "metadata": {
        "id": "bhvSropJvg8V"
      }
    },
    {
      "cell_type": "code",
      "source": [
        "# install.packages(\"remotes\")\n",
        "remotes::install_github(\"pedrohcgs/DRDID\")"
      ],
      "metadata": {
        "id": "jeBO3UXS09fL"
      },
      "execution_count": null,
      "outputs": []
    },
    {
      "cell_type": "code",
      "source": [
        "library(DRDID)\n",
        "\n",
        "data <- read.csv('/content/experimental.csv')\n",
        "\n",
        "covariates_exp <- c(\n",
        "    age=data$age,\n",
        "    agesq=data$agesq,\n",
        "    agecube=data$agecube,\n",
        "    educ=data$educ,\n",
        "    educsq=data$educsq,\n",
        "    marr=data$marr,\n",
        "    nodegree=data$nodegree,\n",
        "    black=data$black,\n",
        "    hisp=data$hisp,\n",
        "    re74=data$re74,\n",
        "    u74=data$u74)\n",
        "\n",
        "# DRDID estimation\n",
        "\n",
        "model3 <- drdid(yname = \"re\", tname = \"year\", idname = \"id\", dname = \"ever_treated\",\n",
        "                xformla= ~ age+agesq+agecube+educ+educsq+marr+nodegree+black+hisp+re74+u74,\n",
        "            data = data, panel = TRUE)\n",
        "\n",
        "summary(model3)\n"
      ],
      "metadata": {
        "colab": {
          "base_uri": "https://localhost:8080/"
        },
        "id": "tFFlqhAR23Tu",
        "outputId": "23f746de-9633-49d5-884f-c07b620d2448"
      },
      "execution_count": 22,
      "outputs": [
        {
          "output_type": "stream",
          "name": "stdout",
          "text": [
            " Call:\n",
            "drdid(yname = \"re\", tname = \"year\", idname = \"id\", dname = \"ever_treated\", \n",
            "    xformla = ~age + agesq + agecube + educ + educsq + marr + \n",
            "        nodegree + black + hisp + re74 + u74, data = data, panel = TRUE)\n",
            "------------------------------------------------------------------\n",
            " Further improved locally efficient DR DID estimator for the ATT:\n",
            " \n",
            "   ATT     Std. Error  t value    Pr(>|t|)  [95% Conf. Interval] \n",
            "1549.1084   705.6317    2.1953     0.0281    166.0703  2932.1464 \n",
            "------------------------------------------------------------------\n",
            " Estimator based on panel data.\n",
            " Outcome regression est. method: weighted least squares.\n",
            " Propensity score est. method: inverse prob. tilting.\n",
            " Analytical standard error.\n",
            "------------------------------------------------------------------\n",
            " See Sant'Anna and Zhao (2020) for details."
          ]
        }
      ]
    },
    {
      "cell_type": "markdown",
      "source": [
        "Using the DID estimation in part (e), we find out that the average treatment effect on the treated (ATT) is ~ 1401. In part (f), we get the doubly-robust DID estimator measuring ATT to be ~ 1549.\n",
        "\n",
        "Comparing to part (b), ATT from DRDID is sufficiently close to the DID estimator, i.e., 1549 ~ 1529.\n",
        "\n",
        "However, in part (c) the DID estimator in the non-experimental data is significantly different from the ATT calculated using DRDID, i.e., 13913 != 1549. (!= ~ not equal)\n",
        "\n",
        "\n",
        "\n",
        "---\n",
        "\n"
      ],
      "metadata": {
        "id": "rjqlve8sbqg_"
      }
    }
  ]
}